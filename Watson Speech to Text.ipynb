{
 "cells": [
  {
   "cell_type": "markdown",
   "id": "43daf64d",
   "metadata": {},
   "source": [
    "## Install and import dependencies"
   ]
  },
  {
   "cell_type": "code",
   "execution_count": null,
   "id": "e0eee4bf",
   "metadata": {},
   "outputs": [],
   "source": [
    "!pip install ibm_watson"
   ]
  },
  {
   "cell_type": "code",
   "execution_count": 1,
   "id": "efa8680c",
   "metadata": {},
   "outputs": [],
   "source": [
    "from ibm_watson import SpeechToTextV1\n",
    "from ibm_cloud_sdk_core.authenticators import IAMAuthenticator"
   ]
  },
  {
   "cell_type": "markdown",
   "id": "d07af3fb",
   "metadata": {},
   "source": [
    "## Setup STT Service"
   ]
  },
  {
   "cell_type": "code",
   "execution_count": 2,
   "id": "847a430c",
   "metadata": {},
   "outputs": [],
   "source": [
    "apikey = 'eNENNFauHn-tUxJTL4SEVpsZl87d02XFRMNpEqM7CkeZ'\n",
    "url = 'https://api.eu-de.speech-to-text.watson.cloud.ibm.com/instances/7db0794e-a4ff-4680-8b34-888eac3adeb1'"
   ]
  },
  {
   "cell_type": "code",
   "execution_count": 3,
   "id": "f3bd9b98",
   "metadata": {},
   "outputs": [],
   "source": [
    "authenticator = IAMAuthenticator(apikey)\n",
    "stt = SpeechToTextV1(authenticator=authenticator)\n",
    "stt.set_service_url(url)"
   ]
  },
  {
   "cell_type": "markdown",
   "id": "469165d9",
   "metadata": {},
   "source": [
    "## Compressing and spliting up the Audio"
   ]
  },
  {
   "cell_type": "code",
   "execution_count": 16,
   "id": "4461e70f",
   "metadata": {},
   "outputs": [
    {
     "data": {
      "text/plain": [
       "0"
      ]
     },
     "execution_count": 16,
     "metadata": {},
     "output_type": "execute_result"
    }
   ],
   "source": [
    "import subprocess\n",
    "import os\n",
    "command = 'ffmpeg -i audio.wav -vn -ar 44100 -ac 2 -b:a 192k audio.mp3'\n",
    "subprocess.call(command, shell = True)\n",
    "command = 'ffmpeg -i audio.mp3 -f segment -segment_time 360 -c copy %03d.mp3'\n",
    "subprocess.call(command, shell = True)"
   ]
  },
  {
   "cell_type": "code",
   "execution_count": 17,
   "id": "d7372d39",
   "metadata": {},
   "outputs": [],
   "source": [
    "files = []\n",
    "for filename in os.listdir('.'):\n",
    "    if filename.endswith(\".mp3\") and filename !='audio.mp3':\n",
    "        files.append(filename)\n",
    "files.sort()"
   ]
  },
  {
   "cell_type": "code",
   "execution_count": 18,
   "id": "ca41027b",
   "metadata": {},
   "outputs": [
    {
     "data": {
      "text/plain": [
       "['000.mp3']"
      ]
     },
     "execution_count": 18,
     "metadata": {},
     "output_type": "execute_result"
    }
   ],
   "source": [
    "files"
   ]
  },
  {
   "cell_type": "markdown",
   "id": "8dc1cd10",
   "metadata": {},
   "source": [
    "## Perform Conversion"
   ]
  },
  {
   "cell_type": "code",
   "execution_count": 19,
   "id": "c5c94078",
   "metadata": {},
   "outputs": [],
   "source": [
    "results = []\n",
    "for filename in files:\n",
    "    with open(filename, 'rb') as f:\n",
    "        res = stt.recognize(audio=f, content_type='audio/mp3', model='en-AU_NarrowbandModel', continuous=True, \\\n",
    "                           inactivity_timeout=360).get_result()\n",
    "        results.append(res)"
   ]
  },
  {
   "cell_type": "code",
   "execution_count": 20,
   "id": "de10e1cb",
   "metadata": {},
   "outputs": [
    {
     "data": {
      "text/plain": [
       "{'result_index': 0,\n",
       " 'results': [{'final': True,\n",
       "   'alternatives': [{'transcript': 'thank you for choosing the Olympic Tatian management system ',\n",
       "     'confidence': 0.83}]},\n",
       "  {'final': True,\n",
       "   'alternatives': [{'transcript': 'the Olympus dictation management system gives you the power to manage your dictation transcriptions and documents seamlessly and to improve the productivity of your daily work for example you can automatically sent the dictation files or transcribed documents to your assistant or the also via email or F. T. P. ',\n",
       "     'confidence': 0.94}]},\n",
       "  {'final': True,\n",
       "   'alternatives': [{'transcript': \"if you're using the speech recognition software the speech recognition engine works in the background to support your document creation \",\n",
       "     'confidence': 0.98}]},\n",
       "  {'final': True,\n",
       "   'alternatives': [{'transcript': 'we hope you enjoy the simple flexible reliable and secure solutions from Olympus thank you for choosing the Olympic Tatian management system ',\n",
       "     'confidence': 0.9}]},\n",
       "  {'final': True,\n",
       "   'alternatives': [{'transcript': 'the Olympus dictation management system gives you the power to manage your dictation transcriptions and documents seamlessly and to improve the productivity of your daily work for example you can automatically sent the dictation files or transcribed documents to your assistant or the also via email or F. T. P. ',\n",
       "     'confidence': 0.94}]},\n",
       "  {'final': True,\n",
       "   'alternatives': [{'transcript': \"if you're using the speech recognition software the speech recognition engine works in the background to support your document creation \",\n",
       "     'confidence': 0.98}]},\n",
       "  {'final': True,\n",
       "   'alternatives': [{'transcript': 'we hope you enjoy the simple flexible reliable and secure solutions from Olympus thank you for choosing the Olympic Tatian management system ',\n",
       "     'confidence': 0.89}]},\n",
       "  {'final': True,\n",
       "   'alternatives': [{'transcript': 'the Olympus dictation management system gives you the power to manage your dictation transcriptions and documents seamlessly and to improve the productivity of your daily work for example you can automatically sent the dictation files or transcribed documents to your assistant or the also via email or F. T. P. ',\n",
       "     'confidence': 0.94}]},\n",
       "  {'final': True,\n",
       "   'alternatives': [{'transcript': \"if you're using the speech recognition software the speech recognition engine works in the background to support your document creation \",\n",
       "     'confidence': 0.98}]},\n",
       "  {'final': True,\n",
       "   'alternatives': [{'transcript': 'we hope you enjoy the simple flexible reliable and secure solutions from Olympus thank you for choosing the Olympic Tatian management system ',\n",
       "     'confidence': 0.89}]},\n",
       "  {'final': True,\n",
       "   'alternatives': [{'transcript': 'the Olympus dictation management system gives you the power to manage your dictation transcriptions and documents seamlessly and to improve the productivity of your daily work for example you can automatically sent the dictation files or transcribed documents to your assistant or the also via email or F. T. P. ',\n",
       "     'confidence': 0.94}]},\n",
       "  {'final': True,\n",
       "   'alternatives': [{'transcript': \"if you're using the speech recognition software the speech recognition engine works in the background to support your document creation \",\n",
       "     'confidence': 0.98}]},\n",
       "  {'final': True,\n",
       "   'alternatives': [{'transcript': 'we hope you enjoy the simple flexible reliable and secure solutions from Olympus ',\n",
       "     'confidence': 0.91}]}]}"
      ]
     },
     "execution_count": 20,
     "metadata": {},
     "output_type": "execute_result"
    }
   ],
   "source": [
    "results[0]"
   ]
  },
  {
   "cell_type": "code",
   "execution_count": 21,
   "id": "a5036168",
   "metadata": {},
   "outputs": [],
   "source": [
    "text = []\n",
    "for file in results:\n",
    "    for result in file['results']:\n",
    "        text.append(result['alternatives'][0]['transcript'].rstrip() + '.\\n')"
   ]
  },
  {
   "cell_type": "code",
   "execution_count": 22,
   "id": "2d122c4e",
   "metadata": {},
   "outputs": [
    {
     "data": {
      "text/plain": [
       "['thank you for choosing the Olympic Tatian management system.\\n',\n",
       " 'the Olympus dictation management system gives you the power to manage your dictation transcriptions and documents seamlessly and to improve the productivity of your daily work for example you can automatically sent the dictation files or transcribed documents to your assistant or the also via email or F. T. P..\\n',\n",
       " \"if you're using the speech recognition software the speech recognition engine works in the background to support your document creation.\\n\",\n",
       " 'we hope you enjoy the simple flexible reliable and secure solutions from Olympus thank you for choosing the Olympic Tatian management system.\\n',\n",
       " 'the Olympus dictation management system gives you the power to manage your dictation transcriptions and documents seamlessly and to improve the productivity of your daily work for example you can automatically sent the dictation files or transcribed documents to your assistant or the also via email or F. T. P..\\n',\n",
       " \"if you're using the speech recognition software the speech recognition engine works in the background to support your document creation.\\n\",\n",
       " 'we hope you enjoy the simple flexible reliable and secure solutions from Olympus thank you for choosing the Olympic Tatian management system.\\n',\n",
       " 'the Olympus dictation management system gives you the power to manage your dictation transcriptions and documents seamlessly and to improve the productivity of your daily work for example you can automatically sent the dictation files or transcribed documents to your assistant or the also via email or F. T. P..\\n',\n",
       " \"if you're using the speech recognition software the speech recognition engine works in the background to support your document creation.\\n\",\n",
       " 'we hope you enjoy the simple flexible reliable and secure solutions from Olympus thank you for choosing the Olympic Tatian management system.\\n',\n",
       " 'the Olympus dictation management system gives you the power to manage your dictation transcriptions and documents seamlessly and to improve the productivity of your daily work for example you can automatically sent the dictation files or transcribed documents to your assistant or the also via email or F. T. P..\\n',\n",
       " \"if you're using the speech recognition software the speech recognition engine works in the background to support your document creation.\\n\",\n",
       " 'we hope you enjoy the simple flexible reliable and secure solutions from Olympus.\\n']"
      ]
     },
     "execution_count": 22,
     "metadata": {},
     "output_type": "execute_result"
    }
   ],
   "source": [
    "text"
   ]
  },
  {
   "cell_type": "code",
   "execution_count": 23,
   "id": "f6f76692",
   "metadata": {},
   "outputs": [],
   "source": [
    "with open('output.txt', 'w') as out:\n",
    "    out.writelines(text)"
   ]
  },
  {
   "cell_type": "code",
   "execution_count": null,
   "id": "a4af567b",
   "metadata": {},
   "outputs": [],
   "source": []
  }
 ],
 "metadata": {
  "kernelspec": {
   "display_name": "Python 3",
   "language": "python",
   "name": "python3"
  },
  "language_info": {
   "codemirror_mode": {
    "name": "ipython",
    "version": 3
   },
   "file_extension": ".py",
   "mimetype": "text/x-python",
   "name": "python",
   "nbconvert_exporter": "python",
   "pygments_lexer": "ipython3",
   "version": "3.8.5"
  }
 },
 "nbformat": 4,
 "nbformat_minor": 5
}
